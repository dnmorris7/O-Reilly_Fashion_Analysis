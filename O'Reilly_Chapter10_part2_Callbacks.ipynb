{
 "cells": [
  {
   "cell_type": "code",
   "execution_count": 8,
   "metadata": {},
   "outputs": [],
   "source": [
    "#import keras and load the my_keras_fashion_model.h5 file\n",
    "import tensorflow as tf\n",
    "from tensorflow import keras\n",
    "model = keras.models.load_model('my_keras_fashion_model.h5')\n",
    "\n"
   ]
  },
  {
   "cell_type": "code",
   "execution_count": 9,
   "metadata": {},
   "outputs": [],
   "source": [
    "## load in the fasion MNIST dataset\n",
    "fashion_mnist = keras.datasets.fashion_mnist\n",
    "(X_train_full, y_train_full), (X_test, y_test) = fashion_mnist.load_data()\n",
    "\n",
    "X_valid, X_train, = X_train_full[:5000] / 255.0, X_train_full[5000:] / 255.0\n",
    "y_valid, y_train = y_train_full[:5000], y_train_full[5000:]"
   ]
  },
  {
   "attachments": {},
   "cell_type": "markdown",
   "metadata": {},
   "source": [
    "# Callbacks\n",
    "### Model Callbacks can provide rollback in case of a system crash. It makes the model save as it goes, with options to save only the best version thus far given your target metric.\n",
    "\n",
    "### Early Stopping Callbacks indicate how many times a model should try before stopping, lest data be overfitted.\n",
    "(315, O'Reilly)"
   ]
  },
  {
   "cell_type": "code",
   "execution_count": 12,
   "metadata": {},
   "outputs": [
    {
     "name": "stdout",
     "output_type": "stream",
     "text": [
      "Epoch 1/100\n",
      "1719/1719 [==============================] - 4s 2ms/step - loss: 0.1577 - accuracy: 0.9433 - val_loss: 0.3556 - val_accuracy: 0.8780\n",
      "Epoch 2/100\n",
      "1719/1719 [==============================] - 4s 2ms/step - loss: 0.1543 - accuracy: 0.9454 - val_loss: 0.2967 - val_accuracy: 0.8982\n",
      "Epoch 3/100\n",
      "1719/1719 [==============================] - 4s 2ms/step - loss: 0.1529 - accuracy: 0.9455 - val_loss: 0.3659 - val_accuracy: 0.8814\n",
      "Epoch 4/100\n",
      "1719/1719 [==============================] - 4s 2ms/step - loss: 0.1485 - accuracy: 0.9477 - val_loss: 0.3033 - val_accuracy: 0.8978\n",
      "Epoch 5/100\n",
      "1719/1719 [==============================] - 4s 2ms/step - loss: 0.1474 - accuracy: 0.9483 - val_loss: 0.3259 - val_accuracy: 0.8882\n",
      "Epoch 6/100\n",
      "1719/1719 [==============================] - 4s 2ms/step - loss: 0.1443 - accuracy: 0.9491 - val_loss: 0.2991 - val_accuracy: 0.8978\n",
      "Epoch 7/100\n",
      "1719/1719 [==============================] - 4s 2ms/step - loss: 0.1429 - accuracy: 0.9493 - val_loss: 0.3012 - val_accuracy: 0.8998\n",
      "Epoch 8/100\n",
      "1719/1719 [==============================] - 4s 2ms/step - loss: 0.1394 - accuracy: 0.9511 - val_loss: 0.3170 - val_accuracy: 0.8920\n",
      "Epoch 9/100\n",
      "1719/1719 [==============================] - 4s 2ms/step - loss: 0.1377 - accuracy: 0.9530 - val_loss: 0.3172 - val_accuracy: 0.8964\n",
      "Epoch 10/100\n",
      "1719/1719 [==============================] - 4s 2ms/step - loss: 0.1360 - accuracy: 0.9526 - val_loss: 0.3134 - val_accuracy: 0.8960\n",
      "Epoch 11/100\n",
      "1719/1719 [==============================] - 4s 2ms/step - loss: 0.1326 - accuracy: 0.9534 - val_loss: 0.3126 - val_accuracy: 0.8964\n",
      "Epoch 12/100\n",
      "1719/1719 [==============================] - 4s 2ms/step - loss: 0.1301 - accuracy: 0.9549 - val_loss: 0.3249 - val_accuracy: 0.8958\n"
     ]
    }
   ],
   "source": [
    "#further train the model\n",
    "checkpoint_cb = keras.callbacks.ModelCheckpoint(\"my_keras_fashion_model.h5\", save_best_only=True, monitor='val_loss')\n",
    "early_stopping_cb = keras.callbacks.EarlyStopping(patience=10, restore_best_weights=True)\n",
    "history = model.fit(X_train, y_train, epochs=100, validation_data=(X_valid, y_valid), callbacks=[checkpoint_cb, early_stopping_cb])"
   ]
  },
  {
   "attachments": {},
   "cell_type": "markdown",
   "metadata": {},
   "source": [
    "## There are other types of callbacks beyond the ones above (188, Manning). \n",
    "\n",
    "### Learning Rate Schedulers for dynamically adjusting parameters during the training\n",
    "### Loggers and progress bars\n",
    "\n",
    "-keras.callbacks.LearningRateScheduler\n",
    "\n",
    "-keras.callbacks.ReduceLROnPlateau\n",
    "\n",
    "-keras.callbacks.CSVLogger"
   ]
  },
  {
   "cell_type": "code",
   "execution_count": null,
   "metadata": {},
   "outputs": [],
   "source": []
  }
 ],
 "metadata": {
  "kernelspec": {
   "display_name": "Python 3",
   "language": "python",
   "name": "python3"
  },
  "language_info": {
   "codemirror_mode": {
    "name": "ipython",
    "version": 3
   },
   "file_extension": ".py",
   "mimetype": "text/x-python",
   "name": "python",
   "nbconvert_exporter": "python",
   "pygments_lexer": "ipython3",
   "version": "3.7.6"
  },
  "orig_nbformat": 4
 },
 "nbformat": 4,
 "nbformat_minor": 2
}
